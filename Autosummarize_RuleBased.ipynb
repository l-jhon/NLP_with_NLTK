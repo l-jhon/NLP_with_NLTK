{
 "cells": [
  {
   "cell_type": "code",
   "execution_count": 1,
   "metadata": {},
   "outputs": [],
   "source": [
    "import urllib.request\n",
    "from bs4 import BeautifulSoup"
   ]
  },
  {
   "cell_type": "code",
   "execution_count": 2,
   "metadata": {},
   "outputs": [],
   "source": [
    "articleUrl = 'https://globoesporte.globo.com/natacao/noticia/estudo-dieta-e-menos-treinos-os-segredos-de-nicholas-para-ser-o-melhor-do-mundo-aos-38-anos.ghtml'"
   ]
  },
  {
   "cell_type": "code",
   "execution_count": 3,
   "metadata": {},
   "outputs": [],
   "source": [
    "page = urllib.request.urlopen(articleUrl).read().decode('utf8', 'ignore')\n",
    "soup = BeautifulSoup(page, 'lxml')"
   ]
  },
  {
   "cell_type": "code",
   "execution_count": 4,
   "metadata": {},
   "outputs": [],
   "source": [
    "text = ' '.join(map(lambda p: p.text, soup.find_all('article')))"
   ]
  },
  {
   "cell_type": "code",
   "execution_count": 6,
   "metadata": {},
   "outputs": [
    {
     "data": {
      "text/plain": [
       "'               Nicholas Santos é ouro na prova dos 50m borboleta no Mundial de piscina curta de natação          Nicholas Santos gosta de provar que, aos 38 anos, a idade é apenas um número para se deixar de lado. Neste sábado, com a marca de 21s81, o paulista conquistou a medalha de ouro nos 50m borboleta no Campeonato Mundial em piscina curta (25m) de Hangzhou, na China. Por trás do sucesso, há muito pouco de acaso e muito de trabalho.      O nadador entendeu os limites do corpo e o que fazer para mantê-lo sadio e longe de lesões. O primeiro passo foi restringir excessos. Formado em fisioterapia, ele usou dos conhecimentos para traçar uma rotina espartana e fundamental para sua longevidade.     Nicholas não come doces, segue uma dieta macrobiótica rígida. Reduziu a carga de treinos consideravelmente e passou a se concentrar em uma prova: os 50m borboleta, que para seu infortúnio não faz parte do programa dos Jogos Olímpicos.                Nicholas Santos festeja a medalha de ouro: \"2018 foi um ano sensacional\"     O mais curioso é que ele alia a rotina de treinos no Centro Paralímpico Brasileiro ou em uma academia em São Paulo com os negócios. Ele é sócio em uma consultoria de treinamento especializada em passar programas e realizar eventos. Além disso, tem de encaixar na agenda os momentos com o filho, também chamado Nicholas.     - Por eu ter me formado em Fisioterapia, estar em uma empresa de treinamento, em contato com os maiores profissionais na área de treinamento e educação física, hoje entendo o que meu corpo precisa para nadar bem - afirmou ao GloboEsporte.com após o título.        Ao estabelecer prioridades, deu ao corpo os períodos de descanso necessários para aguentar o tranco. Por exemplo, se há dez anos nadava cerca de dez mil metros por dia, hoje nada três. Quando sai, reforça as atividades \"secas\", ou seja, fora da água, como pilates, massagens e afins. Não alivia na musculação para manter o corpo com não muito mais do que 6% de gordura.     Assim ele construiu esse nadador incansável que, neste sábado, caiu na água duas vezes em 40 minutos para conquistar dois pódios - além dos 50m borboleta, também ajudou o revezamento 4x50m medley masculino a levar o bronze. Em outubro, ele havia batido o recorde mundial da prova individual, uma marca que durava havia nove anos, mas que não foi uma barreira. E, neste sábado, ficou a apenas seis centésimos de alcançá-la novamente.                    Nicholas Santos no pódio do Mundial da China — Foto: Satiro Sodré/SSPress/CBDA      - Para mim tudo isso aqui é sensacional. Eu bati o recorde mundial, aqui consegui nadar pra 21s81. O maior desafio era nadar o revezamento, recuperar e vir para a prova. Mas, sabe? O que mais gosto é do desafio. É o que me deixa a continuar motivado a treinar - disse.     Na borda da piscina, ele pediu ao ser indagado sobre prolongar a carreira. Quer curtir o dia, as medalhas e saborear a consciência de ainda estar entre os melhores do mundo, mesmo contra nadadores com metade de sua idade.         De uma coisa, porém, ele já está certo. Se continuar, sabe que será competitivo no Mundial em piscina longa (50m) de Gwangju, na Coreia do Sul, em 2019, e por quanto tempo mais seguir. Porque provou que idade é apenas um número.     '"
      ]
     },
     "execution_count": 6,
     "metadata": {},
     "output_type": "execute_result"
    }
   ],
   "source": [
    "text.encode('ascii', errors='replace')\n",
    "text.replace('\\n', ' ')"
   ]
  },
  {
   "cell_type": "code",
   "execution_count": 8,
   "metadata": {},
   "outputs": [],
   "source": [
    "import urllib.request\n",
    "from bs4 import BeautifulSoup\n",
    "\n",
    "def get_text_web(url):\n",
    "    page = urllib.request.urlopen(url).read().decode('utf8')\n",
    "    soup = BeautifulSoup(page, 'lxml')\n",
    "    text = ' '.join(map(lambda p: p_text, soup.find_all('article')))\n",
    "    text.encode('ascii', errors='replace')\n",
    "    text.replace('\\n', ' ')\n",
    "    return text"
   ]
  },
  {
   "cell_type": "code",
   "execution_count": 9,
   "metadata": {},
   "outputs": [],
   "source": [
    "from nltk.tokenize import sent_tokenize, word_tokenize\n",
    "from nltk.corpus import stopwords\n",
    "from string import punctuation"
   ]
  },
  {
   "cell_type": "code",
   "execution_count": 10,
   "metadata": {},
   "outputs": [],
   "source": [
    "sents = sent_tokenize(text)"
   ]
  },
  {
   "cell_type": "code",
   "execution_count": 11,
   "metadata": {},
   "outputs": [],
   "source": [
    "words_sent = word_tokenize(text)"
   ]
  },
  {
   "cell_type": "code",
   "execution_count": 14,
   "metadata": {},
   "outputs": [],
   "source": [
    "stopwords = set(stopwords.words('portuguese') + list(punctuation))\n",
    "stopwords.add(\"é\")"
   ]
  },
  {
   "cell_type": "code",
   "execution_count": 15,
   "metadata": {},
   "outputs": [],
   "source": [
    "# Retirando stopwords\n",
    "words_sent = [word for word in words_sent if word not in stopwords]"
   ]
  },
  {
   "cell_type": "code",
   "execution_count": 16,
   "metadata": {},
   "outputs": [
    {
     "data": {
      "text/plain": [
       "FreqDist({'Nicholas': 6, '50m': 5, 'O': 5, 'Santos': 4, 'prova': 4, 'borboleta': 4, 'Mundial': 4, 'piscina': 4, 'corpo': 4, 'ouro': 3, ...})"
      ]
     },
     "execution_count": 16,
     "metadata": {},
     "output_type": "execute_result"
    }
   ],
   "source": [
    "# Verificando a frequência de cada palavra\n",
    "from nltk.probability import FreqDist\n",
    "\n",
    "freq = FreqDist(words_sent)\n",
    "freq"
   ]
  },
  {
   "cell_type": "code",
   "execution_count": 17,
   "metadata": {},
   "outputs": [],
   "source": [
    "# Encontrar palavras com maior frequência\n",
    "from heapq import nlargest"
   ]
  },
  {
   "cell_type": "code",
   "execution_count": 18,
   "metadata": {},
   "outputs": [
    {
     "data": {
      "text/plain": [
       "['Nicholas',\n",
       " '50m',\n",
       " 'O',\n",
       " 'Santos',\n",
       " 'prova',\n",
       " 'borboleta',\n",
       " 'Mundial',\n",
       " 'piscina',\n",
       " 'corpo',\n",
       " 'ouro']"
      ]
     },
     "execution_count": 18,
     "metadata": {},
     "output_type": "execute_result"
    }
   ],
   "source": [
    "nlargest(10, freq, key=freq.get)"
   ]
  },
  {
   "cell_type": "code",
   "execution_count": 19,
   "metadata": {},
   "outputs": [
    {
     "data": {
      "text/plain": [
       "defaultdict(int,\n",
       "            {0: 41,\n",
       "             1: 34,\n",
       "             2: 5,\n",
       "             3: 13,\n",
       "             4: 4,\n",
       "             5: 10,\n",
       "             6: 6,\n",
       "             7: 23,\n",
       "             8: 22,\n",
       "             9: 10,\n",
       "             10: 7,\n",
       "             11: 33,\n",
       "             12: 12,\n",
       "             13: 18,\n",
       "             14: 13,\n",
       "             15: 9,\n",
       "             16: 37,\n",
       "             17: 23,\n",
       "             18: 13,\n",
       "             19: 10,\n",
       "             20: 14,\n",
       "             21: 14,\n",
       "             22: 2,\n",
       "             23: 3,\n",
       "             24: 6,\n",
       "             25: 11,\n",
       "             26: 17,\n",
       "             27: 3,\n",
       "             28: 21,\n",
       "             29: 9})"
      ]
     },
     "execution_count": 19,
     "metadata": {},
     "output_type": "execute_result"
    }
   ],
   "source": [
    "from collections import defaultdict\n",
    "\n",
    "ranking = defaultdict(int)\n",
    "\n",
    "for i, sent in enumerate(sents):\n",
    "    for w in word_tokenize(sent.lower()):\n",
    "        if w in freq:\n",
    "            ranking[i] += freq[w]\n",
    "ranking"
   ]
  },
  {
   "cell_type": "code",
   "execution_count": 23,
   "metadata": {},
   "outputs": [
    {
     "data": {
      "text/plain": [
       "[0, 16, 1, 11]"
      ]
     },
     "execution_count": 23,
     "metadata": {},
     "output_type": "execute_result"
    }
   ],
   "source": [
    "# Extraindo índice das 4 palavras que possuem maior frequência no artigo\n",
    "sents_idx = nlargest(4, ranking, key=ranking.get)\n",
    "sents_idx"
   ]
  },
  {
   "cell_type": "code",
   "execution_count": 24,
   "metadata": {},
   "outputs": [
    {
     "data": {
      "text/plain": [
       "['               Nicholas Santos é ouro na prova dos 50m borboleta no Mundial de piscina curta de natação          Nicholas Santos gosta de provar que, aos 38 anos, a idade é apenas um número para se deixar de lado.',\n",
       " 'Neste sábado, com a marca de 21s81, o paulista conquistou a medalha de ouro nos 50m borboleta no Campeonato Mundial em piscina curta (25m) de Hangzhou, na China.',\n",
       " '- Por eu ter me formado em Fisioterapia, estar em uma empresa de treinamento, em contato com os maiores profissionais na área de treinamento e educação física, hoje entendo o que meu corpo precisa para nadar bem - afirmou ao GloboEsporte.com após o título.',\n",
       " 'Assim ele construiu esse nadador incansável que, neste sábado, caiu na água duas vezes em 40 minutos para conquistar dois pódios - além dos 50m borboleta, também ajudou o revezamento 4x50m medley masculino a levar o bronze.']"
      ]
     },
     "execution_count": 24,
     "metadata": {},
     "output_type": "execute_result"
    }
   ],
   "source": [
    "# Indexando as frases (sentenças) através do índice das palavras que mais aparecem no artigo\n",
    "[sents[j] for j in sorted(sents_idx)]"
   ]
  },
  {
   "cell_type": "code",
   "execution_count": 28,
   "metadata": {},
   "outputs": [],
   "source": [
    "from nltk.tokenize import sent_tokenize, word_tokenize\n",
    "from nltk.corpus import stopwords\n",
    "from string import punctuation\n",
    "from nltk.probability import FreqDist\n",
    "from heapq import nlargest\n",
    "from collections import defaultdict\n",
    "\n",
    "def summarize(text, n):\n",
    "    sents = sent_tokenize(text)\n",
    "    \n",
    "    assert n <= len(sents)\n",
    "    word_sent = word_tokenize(text.lower())\n",
    "    _stopwords = set(stopwords.words('portuguese') + list(punctuation))\n",
    "    _stopwords.add('é')\n",
    "    _stopwords.add('á')\n",
    "    _stopwords.add('ã')\n",
    "    _stopwords.add('ê')\n",
    "    \n",
    "    word_sent = [word for word in word_sent if word not in _stopwords]\n",
    "    freq = FreqDist(word_sent)\n",
    "    \n",
    "    ranking = defaultdict(int)\n",
    "    \n",
    "    for i, sent in enumerate(sents):\n",
    "        for w in word_tokenize(sent.lower()):\n",
    "            if w in freq:\n",
    "                ranking[i] = freq[w]\n",
    "    \n",
    "    sents_idx = nlargest(n, ranking, key=ranking.get)\n",
    "    return [sents[j] for j in sorted(sents_idx)]"
   ]
  },
  {
   "cell_type": "code",
   "execution_count": 30,
   "metadata": {},
   "outputs": [
    {
     "data": {
      "text/plain": [
       "['Neste sábado, com a marca de 21s81, o paulista conquistou a medalha de ouro nos 50m borboleta no Campeonato Mundial em piscina curta (25m) de Hangzhou, na China.',\n",
       " 'Além disso, tem de encaixar na agenda os momentos com o filho, também chamado Nicholas.',\n",
       " 'O maior desafio era nadar o revezamento, recuperar e vir para a prova.',\n",
       " 'Quer curtir o dia, as medalhas e saborear a consciência de ainda estar entre os melhores do mundo, mesmo contra nadadores com metade de sua idade.']"
      ]
     },
     "execution_count": 30,
     "metadata": {},
     "output_type": "execute_result"
    }
   ],
   "source": [
    "summarize(text, 4)"
   ]
  },
  {
   "cell_type": "code",
   "execution_count": null,
   "metadata": {},
   "outputs": [],
   "source": []
  }
 ],
 "metadata": {
  "kernelspec": {
   "display_name": "Python 3",
   "language": "python",
   "name": "python3"
  },
  "language_info": {
   "codemirror_mode": {
    "name": "ipython",
    "version": 3
   },
   "file_extension": ".py",
   "mimetype": "text/x-python",
   "name": "python",
   "nbconvert_exporter": "python",
   "pygments_lexer": "ipython3",
   "version": "3.7.0"
  }
 },
 "nbformat": 4,
 "nbformat_minor": 2
}
