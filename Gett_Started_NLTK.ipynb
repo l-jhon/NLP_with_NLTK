{
 "cells": [
  {
   "cell_type": "code",
   "execution_count": 2,
   "metadata": {},
   "outputs": [
    {
     "name": "stdout",
     "output_type": "stream",
     "text": [
      "[nltk_data] Downloading package punkt to /home/jhon/nltk_data...\n",
      "[nltk_data]   Package punkt is already up-to-date!\n"
     ]
    },
    {
     "data": {
      "text/plain": [
       "True"
      ]
     },
     "execution_count": 2,
     "metadata": {},
     "output_type": "execute_result"
    }
   ],
   "source": [
    "import nltk\n",
    "nltk.download('punkt')"
   ]
  },
  {
   "cell_type": "code",
   "execution_count": 3,
   "metadata": {},
   "outputs": [
    {
     "name": "stdout",
     "output_type": "stream",
     "text": [
      "['João é uma criança que gosta de brinca.', 'Ele as vezes joga bola com os amigos']\n"
     ]
    }
   ],
   "source": [
    "from nltk.tokenize import word_tokenize, sent_tokenize\n",
    "text = 'João é uma criança que gosta de brinca. Ele as vezes joga bola com os amigos'\n",
    "sents = sent_tokenize(text)\n",
    "print(sents)"
   ]
  },
  {
   "cell_type": "code",
   "execution_count": 4,
   "metadata": {},
   "outputs": [
    {
     "name": "stdout",
     "output_type": "stream",
     "text": [
      "[['João', 'é', 'uma', 'criança', 'que', 'gosta', 'de', 'brinca', '.'], ['Ele', 'as', 'vezes', 'joga', 'bola', 'com', 'os', 'amigos']]\n"
     ]
    }
   ],
   "source": [
    "words = [word_tokenize(sent) for sent in sents]\n",
    "print(words)"
   ]
  },
  {
   "cell_type": "code",
   "execution_count": 5,
   "metadata": {},
   "outputs": [
    {
     "name": "stdout",
     "output_type": "stream",
     "text": [
      "[nltk_data] Downloading package stopwords to /home/jhon/nltk_data...\n",
      "[nltk_data]   Package stopwords is already up-to-date!\n"
     ]
    },
    {
     "data": {
      "text/plain": [
       "True"
      ]
     },
     "execution_count": 5,
     "metadata": {},
     "output_type": "execute_result"
    }
   ],
   "source": [
    "nltk.download('stopwords')"
   ]
  },
  {
   "cell_type": "code",
   "execution_count": 6,
   "metadata": {},
   "outputs": [],
   "source": [
    "from nltk.corpus import stopwords\n",
    "from string import punctuation\n",
    "customStopWords = set(stopwords.words('portuguese') + list(punctuation))"
   ]
  },
  {
   "cell_type": "code",
   "execution_count": 7,
   "metadata": {},
   "outputs": [
    {
     "name": "stdout",
     "output_type": "stream",
     "text": [
      "['João', 'é', 'criança', 'gosta', 'brinca', 'Ele', 'vezes', 'joga', 'bola', 'amigos']\n"
     ]
    }
   ],
   "source": [
    "wordsWOSStopwords = [word for word in word_tokenize(text) if word not in customStopWords]\n",
    "print(wordsWOSStopwords)"
   ]
  },
  {
   "cell_type": "code",
   "execution_count": 8,
   "metadata": {},
   "outputs": [
    {
     "data": {
      "text/plain": [
       "[(('Ele', 'vezes'), 1),\n",
       " (('João', 'é'), 1),\n",
       " (('bola', 'amigos'), 1),\n",
       " (('brinca', 'Ele'), 1),\n",
       " (('criança', 'gosta'), 1),\n",
       " (('gosta', 'brinca'), 1),\n",
       " (('joga', 'bola'), 1),\n",
       " (('vezes', 'joga'), 1),\n",
       " (('é', 'criança'), 1)]"
      ]
     },
     "execution_count": 8,
     "metadata": {},
     "output_type": "execute_result"
    }
   ],
   "source": [
    "from nltk.collocations import *\n",
    "bigram_measures = nltk.collocations.BigramAssocMeasures()\n",
    "finder = BigramCollocationFinder.from_words(wordsWOSStopwords)\n",
    "sorted(finder.ngram_fd.items())"
   ]
  },
  {
   "cell_type": "code",
   "execution_count": 9,
   "metadata": {},
   "outputs": [
    {
     "name": "stdout",
     "output_type": "stream",
     "text": [
      "['joao', 'fechou', 'a', 'port', 'de', 'sua', 'cas', ',', 'e', 'viu', 'que', 'a', 'port', 'dos', 'fundo', 'já', 'estav', 'fechad']\n"
     ]
    }
   ],
   "source": [
    "text2 = 'Joao fechou a porta de sua casa, e viu que a porta dos fundos já estava fechada'\n",
    "from nltk.stem.lancaster import LancasterStemmer\n",
    "st = LancasterStemmer()\n",
    "stemmedWords=[st.stem(word) for word in word_tokenize(text2)]\n",
    "print(stemmedWords)"
   ]
  },
  {
   "cell_type": "code",
   "execution_count": 10,
   "metadata": {},
   "outputs": [
    {
     "name": "stdout",
     "output_type": "stream",
     "text": [
      "[nltk_data] Downloading package averaged_perceptron_tagger to\n",
      "[nltk_data]     /home/jhon/nltk_data...\n",
      "[nltk_data]   Package averaged_perceptron_tagger is already up-to-\n",
      "[nltk_data]       date!\n"
     ]
    },
    {
     "data": {
      "text/plain": [
       "True"
      ]
     },
     "execution_count": 10,
     "metadata": {},
     "output_type": "execute_result"
    }
   ],
   "source": [
    "nltk.download('averaged_perceptron_tagger')"
   ]
  },
  {
   "cell_type": "code",
   "execution_count": 11,
   "metadata": {},
   "outputs": [
    {
     "data": {
      "text/plain": [
       "[('Joao', 'NNP'),\n",
       " ('fechou', 'VBZ'),\n",
       " ('a', 'DT'),\n",
       " ('porta', 'NN'),\n",
       " ('de', 'IN'),\n",
       " ('sua', 'FW'),\n",
       " ('casa', 'NN'),\n",
       " (',', ','),\n",
       " ('e', 'FW'),\n",
       " ('viu', 'FW'),\n",
       " ('que', 'FW'),\n",
       " ('a', 'DT'),\n",
       " ('porta', 'NN'),\n",
       " ('dos', 'NN'),\n",
       " ('fundos', 'NN'),\n",
       " ('já', 'NN'),\n",
       " ('estava', 'NN'),\n",
       " ('fechada', 'NN')]"
      ]
     },
     "execution_count": 11,
     "metadata": {},
     "output_type": "execute_result"
    }
   ],
   "source": [
    "nltk.pos_tag(word_tokenize(text2))"
   ]
  },
  {
   "cell_type": "code",
   "execution_count": 12,
   "metadata": {},
   "outputs": [
    {
     "name": "stdout",
     "output_type": "stream",
     "text": [
      "[nltk_data] Downloading package wordnet to /home/jhon/nltk_data...\n",
      "[nltk_data]   Package wordnet is already up-to-date!\n"
     ]
    },
    {
     "data": {
      "text/plain": [
       "True"
      ]
     },
     "execution_count": 12,
     "metadata": {},
     "output_type": "execute_result"
    }
   ],
   "source": [
    "nltk.download('wordnet')"
   ]
  },
  {
   "cell_type": "code",
   "execution_count": 13,
   "metadata": {},
   "outputs": [
    {
     "name": "stdout",
     "output_type": "stream",
     "text": [
      "Synset('true.n.01') proper alignment; the property possessed by something that is in correct or proper alignment\n",
      "Synset('true.v.01') make level, square, balanced, or concentric\n",
      "Synset('true.a.01') consistent with fact or reality; not false\n",
      "Synset('true.s.02') accurately placed or thrown\n",
      "Synset('true.s.03') devoted (sometimes fanatically) to a cause or concept or truth\n",
      "Synset('truthful.a.01') expressing or given to expressing the truth\n",
      "Synset('true.s.05') conforming to definitive criteria\n",
      "Synset('dependable.s.02') worthy of being depended on\n",
      "Synset('genuine.s.02') not pretended; sincerely felt or expressed\n",
      "Synset('true.s.08') rightly so called\n",
      "Synset('true.s.09') determined with reference to the earth's axis rather than the magnetic poles\n",
      "Synset('true.s.10') having a legally established claim\n",
      "Synset('on-key.s.01') in tune; accurate in pitch\n",
      "Synset('true.s.12') accurately fitted; level\n",
      "Synset('true.r.01') as acknowledged\n"
     ]
    }
   ],
   "source": [
    "from nltk.corpus import wordnet as wn\n",
    "for ss in wn.synsets('true'):\n",
    "    print(ss, ss.definition())"
   ]
  },
  {
   "cell_type": "code",
   "execution_count": null,
   "metadata": {},
   "outputs": [],
   "source": []
  }
 ],
 "metadata": {
  "kernelspec": {
   "display_name": "Python 3",
   "language": "python",
   "name": "python3"
  },
  "language_info": {
   "codemirror_mode": {
    "name": "ipython",
    "version": 3
   },
   "file_extension": ".py",
   "mimetype": "text/x-python",
   "name": "python",
   "nbconvert_exporter": "python",
   "pygments_lexer": "ipython3",
   "version": "3.7.0"
  }
 },
 "nbformat": 4,
 "nbformat_minor": 2
}
